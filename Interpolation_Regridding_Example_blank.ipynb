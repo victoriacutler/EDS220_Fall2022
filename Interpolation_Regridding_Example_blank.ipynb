{
 "cells": [
  {
   "cell_type": "markdown",
   "id": "ea7d0641-0f23-491d-b6a1-85226804726b",
   "metadata": {},
   "source": [
    "# EDS 220 Fall 2022\n",
    "# Data Regridding\n",
    "\n",
    "Let's get some practice working with interpolation and data regridding! We'll be working with the same SST datasets used in other notebooks, just to make things easier.\n",
    "\n",
    "__NOTE: the selection of the correct Python kernel is important!__\n",
    "\n",
    "This notebook requires the use of Cartopy later on - on Taylor, the \"carto\" kernel should allow access to this and all other necessary packages.\n",
    "\n",
    "Import packages first:"
   ]
  },
  {
   "cell_type": "code",
   "execution_count": 4,
   "id": "59d828d4-d427-4085-b17c-bab372bce628",
   "metadata": {},
   "outputs": [],
   "source": [
    "# Import necessary packages\n",
    "import numpy as np\n",
    "import pandas as pd\n",
    "import matplotlib.pyplot as plt\n",
    "import xarray as xr\n",
    "import scipy\n",
    "from scipy import interpolate\n",
    "import cartopy\n",
    "import cartopy.crs as ccrs\n",
    "from cartopy.feature import NaturalEarthFeature\n",
    "import cartopy.feature as cfeature"
   ]
  },
  {
   "cell_type": "markdown",
   "id": "41035ed3-0d68-4bf4-9e56-eabc7836fdc9",
   "metadata": {},
   "source": [
    "### 1) Read in data\n",
    "\n",
    "To demonstrate the process of converting two-dimensional data to a common grid, we'll use two gridded climate data products:\n",
    "\n",
    "* The [NOAA Extended Reconstructed Sea Surface Temperature version 5](https://psl.noaa.gov/data/gridded/data.noaa.ersst.v5.html) (ERSSTv5)\n",
    "* The [Global Precipitation Climatology Product](https://psl.noaa.gov/data/gridded/data.gpcp.html) (GPCP)\n",
    "\n",
    "Both of these data sets have relatively low spatial resolution: roughly 2 degrees on a side in lat and lon. This makes them quick to load over OpeNDAP. But the locations of the data points are not the same, meaning that to directly compare we need to do our regridding exercise!\n",
    "\n",
    "First, load the data using the remote OpeNDAP URLs:"
   ]
  },
  {
   "cell_type": "code",
   "execution_count": 1,
   "id": "84b74542-cc3d-4f6d-97d9-75b6fe42d4a6",
   "metadata": {},
   "outputs": [],
   "source": [
    "# location of ERSSTv5 data\n",
    "ersst_url=\"https://psl.noaa.gov/thredds/dodsC/Datasets/noaa.ersst.v5/sst.mnmean.nc\"\n",
    "\n",
    "# open dataset using remote URL\n",
    "\n",
    "\n",
    "# display dataset to see what it looks like\n"
   ]
  },
  {
   "cell_type": "code",
   "execution_count": 2,
   "id": "0d8d76f9-b1cd-4469-8dd5-2ff7e6f43d81",
   "metadata": {},
   "outputs": [],
   "source": [
    "# Location of precipitation dataset\n",
    "gpcp_url=\"https://psl.noaa.gov/thredds/dodsC/Datasets/gpcp/precip.mon.mean.nc\"\n",
    "\n",
    "# open dataset with remote URL\n",
    "\n",
    "\n",
    "# display dataset to see what it looks like\n"
   ]
  },
  {
   "cell_type": "markdown",
   "id": "0c7cb04b-e715-4c7a-a54f-47207dca4c37",
   "metadata": {},
   "source": [
    "To get a visual sense of how the data products are laid out spatially, we can create plots using Matplotlib's `pcolor`. If we wanted to create a production-quality plot, using a map projection with Cartopy would be necessary, but here we're just looking for a quick overview:"
   ]
  },
  {
   "cell_type": "code",
   "execution_count": 5,
   "id": "7ced1fc3-97aa-4e43-823e-38e627c5fa3f",
   "metadata": {},
   "outputs": [
    {
     "data": {
      "text/plain": [
       "<Figure size 1400x1000 with 0 Axes>"
      ]
     },
     "execution_count": 5,
     "metadata": {},
     "output_type": "execute_result"
    },
    {
     "data": {
      "text/plain": [
       "<Figure size 1400x1000 with 0 Axes>"
      ]
     },
     "metadata": {},
     "output_type": "display_data"
    }
   ],
   "source": [
    "# Take time average of ERSST data\n",
    "\n",
    "\n",
    "# Create a blank figure\n",
    "plt.figure(figsize=(14,10))\n",
    "# Plot ERSST time average\n"
   ]
  },
  {
   "cell_type": "code",
   "execution_count": 6,
   "id": "e070741e-fd91-4419-967d-14e3f2d971b8",
   "metadata": {},
   "outputs": [
    {
     "data": {
      "text/plain": [
       "<Figure size 1400x1000 with 0 Axes>"
      ]
     },
     "execution_count": 6,
     "metadata": {},
     "output_type": "execute_result"
    },
    {
     "data": {
      "text/plain": [
       "<Figure size 1400x1000 with 0 Axes>"
      ]
     },
     "metadata": {},
     "output_type": "display_data"
    }
   ],
   "source": [
    "# Take time average of GPCP data\n",
    "\n",
    "\n",
    "# Create a blank figure\n",
    "plt.figure(figsize=(14,10))\n",
    "# Plot GPCP time average\n"
   ]
  },
  {
   "cell_type": "markdown",
   "id": "b1e615c5-801b-454e-b5c1-390605e87325",
   "metadata": {},
   "source": [
    "### 2) Interpolate to a common grid: xarray built-in functionality\n",
    "\n",
    "It should be clear that there are differences between these datasets: they're entirely different variables, with different spatial coverages, and slightly different resolutions. Now let's put them on a common grid!\n",
    "\n",
    "The first method we'll use to do this is the built-in `interp` capacity that is held by xarray objects:\n",
    "\n",
    "[https://docs.xarray.dev/en/stable/generated/xarray.DataArray.interp.html](https://docs.xarray.dev/en/stable/generated/xarray.DataArray.interp.html)\n",
    "\n",
    "This is a wrapper around the interpolation functions within the `scipy` package."
   ]
  },
  {
   "cell_type": "code",
   "execution_count": 6,
   "id": "7b8ebb94-9c22-4964-80cc-f595a30655b6",
   "metadata": {},
   "outputs": [],
   "source": [
    "# Interpolate GPCP to SST grid\n"
   ]
  },
  {
   "cell_type": "code",
   "execution_count": 7,
   "id": "202195e4-7bcd-489e-bc94-80f947725bf4",
   "metadata": {},
   "outputs": [],
   "source": [
    "# Display header info for interpolated GPCP\n"
   ]
  },
  {
   "cell_type": "code",
   "execution_count": 8,
   "id": "0744f668-66b3-42a3-8a88-824bb0108f57",
   "metadata": {},
   "outputs": [
    {
     "data": {
      "text/plain": [
       "<Figure size 1400x1000 with 0 Axes>"
      ]
     },
     "execution_count": 8,
     "metadata": {},
     "output_type": "execute_result"
    },
    {
     "data": {
      "text/plain": [
       "<Figure size 1400x1000 with 0 Axes>"
      ]
     },
     "metadata": {},
     "output_type": "display_data"
    }
   ],
   "source": [
    "# Create a blank figure\n",
    "plt.figure(figsize=(14,10))\n",
    "# Plot interpolated GPCP\n"
   ]
  },
  {
   "cell_type": "markdown",
   "id": "4201dc41-0469-44de-8259-341d47898555",
   "metadata": {},
   "source": [
    "### 3) Interpolate to a common grid: Scipy\n",
    "\n",
    "It's also useful to know how the Scipy package itself handles interpolation, since sometimes data may be read in using formats other than xarray. To do this, we can simply call the Scipy `interpolate` package (imported at the beginning of this notebook) directly.\n",
    "\n",
    "Here I'll demonstrate an example using the `interp2d` package within interpolate:\n",
    "\n",
    "[https://docs.scipy.org/doc/scipy/reference/generated/scipy.interpolate.interp2d.html](https://docs.scipy.org/doc/scipy/reference/generated/scipy.interpolate.interp2d.html)"
   ]
  },
  {
   "cell_type": "code",
   "execution_count": 16,
   "id": "2f0ea6db-4604-4a74-9122-7403a239c2ae",
   "metadata": {},
   "outputs": [],
   "source": [
    "# Create interpolation function using Scipy interp2d with input data\n"
   ]
  },
  {
   "cell_type": "markdown",
   "id": "bf24a114-5e88-42db-8728-aab857a12290",
   "metadata": {},
   "source": [
    "Note that the lat and lon values input to `interpolate.interp2d` are the NATIVE (original) lat and lon, NOT the ones we would eventually like to interpolate onto. . That is because the code block above generates an object (`precip_intfn`) which is a Scipy interpolation _function_, which can be evaluated on an arbitrary set of __new__ lon and lat values.\n",
    "\n",
    "Before performing the interpolation, let's examine the lat and lon coordinates onto which we'd like to perform it:"
   ]
  },
  {
   "cell_type": "code",
   "execution_count": 9,
   "id": "6a275aeb-b342-43c6-ad8d-b85503a9daa9",
   "metadata": {},
   "outputs": [],
   "source": [
    "# Target longitude array\n"
   ]
  },
  {
   "cell_type": "code",
   "execution_count": 10,
   "id": "e4173952-8aa6-4407-970a-389bdbc50a82",
   "metadata": {},
   "outputs": [],
   "source": [
    "# Target latitude array\n"
   ]
  },
  {
   "cell_type": "markdown",
   "id": "0879ad83-849b-4cdf-8a62-8edae5b3ec4c",
   "metadata": {},
   "source": [
    "These look reasonable, but there is one important thing to notice - the _ordering_ of the latitude points is reversed in the ERSST dataset relative to GPCP. If we do not fix this, it will result in an interpolated precipitation field with an \"upside down\" appearance (yes, I tried this).\n",
    "\n",
    "Fortunately, the fix is relatively easy: we just need to create a sorted version of the latitude array before performing the interpolation."
   ]
  },
  {
   "cell_type": "code",
   "execution_count": 11,
   "id": "a61d12c9-3d79-4ec1-9764-69c56403581a",
   "metadata": {},
   "outputs": [],
   "source": [
    "# Sort latitude array\n",
    "\n",
    "\n",
    "# Display sorted latitudes\n"
   ]
  },
  {
   "cell_type": "code",
   "execution_count": 12,
   "id": "156cea9e-336d-4700-a253-4963d4a0ebb3",
   "metadata": {},
   "outputs": [],
   "source": [
    "# Evaluate interpolation function on new grid: i.e. perform the interpolation\n"
   ]
  },
  {
   "cell_type": "markdown",
   "id": "7f8470df-d596-4a82-9250-7b0efcdb18c4",
   "metadata": {},
   "source": [
    "To make it more obvious how the raw vs. interpolated values compare, let's make a real map of both using Cartopy. "
   ]
  },
  {
   "cell_type": "code",
   "execution_count": null,
   "id": "ceb16627-d8f4-4ddc-a97c-c963ef2efd1a",
   "metadata": {},
   "outputs": [],
   "source": []
  },
  {
   "cell_type": "code",
   "execution_count": 13,
   "id": "65d1b087-772f-4365-aa2d-4950f485aba8",
   "metadata": {},
   "outputs": [
    {
     "data": {
      "text/plain": [
       "<Figure size 1500x500 with 0 Axes>"
      ]
     },
     "metadata": {},
     "output_type": "display_data"
    }
   ],
   "source": [
    "# Create new Plate-Carree projection\n",
    "\n",
    "# Make blank figure \n",
    "fig = plt.figure(figsize=(15, 5))\n",
    "# Create axes using map projection\n",
    "\n",
    "# Plot data onto projected axis\n",
    "\n",
    "\n"
   ]
  },
  {
   "cell_type": "code",
   "execution_count": 14,
   "id": "5d5af612-308a-475a-8fdb-04e7d97d855f",
   "metadata": {},
   "outputs": [
    {
     "data": {
      "text/plain": [
       "<Figure size 1500x500 with 0 Axes>"
      ]
     },
     "metadata": {},
     "output_type": "display_data"
    }
   ],
   "source": [
    "# Create new Plate-Carree projection\n",
    "\n",
    "# Make blank figure \n",
    "fig = plt.figure(figsize=(15, 5))\n",
    "# Create axes using map projection\n",
    "\n",
    "# Plot data onto projected axis\n",
    "\n",
    "\n"
   ]
  },
  {
   "cell_type": "markdown",
   "id": "533925a1-aba9-4ef5-98e3-a2c780015e1d",
   "metadata": {},
   "source": [
    "Since the input and output grids are not _that_ different from one another, the differences in the interpolated map is somewhat subtle. However, you can see differences in the grid boxes between the upper and lower panels, as well as some shifts in the appearance of the major precipitation features. If your input and output grids differ more from one another, you can expect even larger effects!"
   ]
  },
  {
   "cell_type": "code",
   "execution_count": null,
   "id": "f65e320b-f7c1-4c5d-8b46-90b207da7dae",
   "metadata": {},
   "outputs": [],
   "source": []
  }
 ],
 "metadata": {
  "kernelspec": {
   "display_name": "carto",
   "language": "python",
   "name": "carto"
  },
  "language_info": {
   "codemirror_mode": {
    "name": "ipython",
    "version": 3
   },
   "file_extension": ".py",
   "mimetype": "text/x-python",
   "name": "python",
   "nbconvert_exporter": "python",
   "pygments_lexer": "ipython3",
   "version": "3.8.13"
  }
 },
 "nbformat": 4,
 "nbformat_minor": 5
}
