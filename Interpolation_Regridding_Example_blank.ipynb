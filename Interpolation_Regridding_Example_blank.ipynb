{
 "cells": [
  {
   "cell_type": "markdown",
   "id": "ea7d0641-0f23-491d-b6a1-85226804726b",
   "metadata": {},
   "source": [
    "# EDS 220 Fall 2022\n",
    "# Data Regridding\n",
    "\n",
    "Let's get some practice working with interpolation and data regridding! We'll be working with the same SST datasets used in other notebooks, just to make things easier.\n",
    "\n",
    "__NOTE: the selection of the correct Python kernel is important!__\n",
    "\n",
    "we'll be using the OpeNDAP interface to grab some of the data, so the same caveats with regards to Taylor or your personal Python install apply as they did previously. To avoid issues, do one of the following:\n",
    "\n",
    "* On Taylor - make sure that 'Anaconda Base' is selected as your kernel;\n",
    "\n",
    "* On a local Python install - make sure that you have installed all of the packages `xarray`, `libnetcdf`, and `netcdf4` \n",
    "  (you'll likely need to use conda to install the latter two)\n",
    "\n",
    "Import packages first:"
   ]
  },
  {
   "cell_type": "code",
   "execution_count": 1,
   "id": "59d828d4-d427-4085-b17c-bab372bce628",
   "metadata": {},
   "outputs": [],
   "source": [
    "# Import necessary packages\n",
    "import numpy as np\n",
    "import pandas as pd\n",
    "import matplotlib.pyplot as plt\n",
    "import xarray as xr"
   ]
  },
  {
   "cell_type": "markdown",
   "id": "41035ed3-0d68-4bf4-9e56-eabc7836fdc9",
   "metadata": {},
   "source": [
    "### 1) Read in data\n",
    "\n",
    "To demonstrate the process of converting two-dimensional data to a common grid, we'll use two gridded climate data products:\n",
    "\n",
    "* The [NOAA Extended Reconstructed Sea Surface Temperature version 5](https://psl.noaa.gov/data/gridded/data.noaa.ersst.v5.html) (ERSSTv5)\n",
    "* The [Global Precipitation Climatology Product](https://psl.noaa.gov/data/gridded/data.gpcp.html) (GPCP)\n",
    "\n",
    "Both of these data sets have relatively low spatial resolution: roughly 2 degrees on a side in lat and lon. This makes them quick to load over OpeNDAP. But the locations of the data points are not the same, meaning that to directly compare we need to do our regridding exercise!\n",
    "\n",
    "First, load the data using the remote OpeNDAP URLs:"
   ]
  },
  {
   "cell_type": "code",
   "execution_count": 2,
   "id": "84b74542-cc3d-4f6d-97d9-75b6fe42d4a6",
   "metadata": {},
   "outputs": [],
   "source": [
    "# location of ERSSTv5 data\n",
    "\n",
    "\n",
    "# open dataset using remote URL\n",
    "\n",
    "\n",
    "# display dataset to see what it looks like\n"
   ]
  },
  {
   "cell_type": "code",
   "execution_count": 3,
   "id": "0d8d76f9-b1cd-4469-8dd5-2ff7e6f43d81",
   "metadata": {},
   "outputs": [],
   "source": [
    "# Location of precipitation dataset\n",
    "\n",
    "\n",
    "# open dataset with remote URL\n",
    "\n",
    "\n",
    "# display dataset to see what it looks like\n"
   ]
  },
  {
   "cell_type": "markdown",
   "id": "0c7cb04b-e715-4c7a-a54f-47207dca4c37",
   "metadata": {},
   "source": [
    "To get a visual sense of how the data products are laid out spatially, we can create plots using Matplotlib's `pcolor`. If we wanted to create a production-quality plot, using a map projection with Cartopy would be necessary, but here we're just looking for a quick overview:"
   ]
  },
  {
   "cell_type": "code",
   "execution_count": 4,
   "id": "7ced1fc3-97aa-4e43-823e-38e627c5fa3f",
   "metadata": {},
   "outputs": [],
   "source": [
    "# Take time average of ERSST data\n",
    "\n",
    "\n",
    "# Create a blank figure\n",
    "\n",
    "# Plot ERSST time average\n"
   ]
  },
  {
   "cell_type": "code",
   "execution_count": 5,
   "id": "e070741e-fd91-4419-967d-14e3f2d971b8",
   "metadata": {},
   "outputs": [],
   "source": [
    "# Take time average of GPCP data\n",
    "\n",
    "\n",
    "# Create a blank figure\n",
    "\n",
    "# Plot GPCP time average\n"
   ]
  },
  {
   "cell_type": "markdown",
   "id": "b1e615c5-801b-454e-b5c1-390605e87325",
   "metadata": {},
   "source": [
    "It should be clear that there are differences between these datasets: they're entirely different variables, with different spatial coverages, and slightly different resolutions. Now let's put them on a common grid!"
   ]
  },
  {
   "cell_type": "code",
   "execution_count": 6,
   "id": "7b8ebb94-9c22-4964-80cc-f595a30655b6",
   "metadata": {},
   "outputs": [],
   "source": [
    "# Interpolate SST to GPCP grid\n"
   ]
  },
  {
   "cell_type": "code",
   "execution_count": 7,
   "id": "202195e4-7bcd-489e-bc94-80f947725bf4",
   "metadata": {},
   "outputs": [],
   "source": [
    "# Display header info for interpolated ERSST\n"
   ]
  },
  {
   "cell_type": "code",
   "execution_count": 8,
   "id": "0744f668-66b3-42a3-8a88-824bb0108f57",
   "metadata": {},
   "outputs": [],
   "source": [
    "# Create a blank figure\n",
    "\n",
    "# Plot interpolated SST\n"
   ]
  },
  {
   "cell_type": "code",
   "execution_count": null,
   "id": "d3078343-202b-4345-ac61-83fec22de457",
   "metadata": {},
   "outputs": [],
   "source": []
  }
 ],
 "metadata": {
  "kernelspec": {
   "display_name": "Python 3",
   "language": "python",
   "name": "python3"
  },
  "language_info": {
   "codemirror_mode": {
    "name": "ipython",
    "version": 3
   },
   "file_extension": ".py",
   "mimetype": "text/x-python",
   "name": "python",
   "nbconvert_exporter": "python",
   "pygments_lexer": "ipython3",
   "version": "3.8.8"
  }
 },
 "nbformat": 4,
 "nbformat_minor": 5
}
